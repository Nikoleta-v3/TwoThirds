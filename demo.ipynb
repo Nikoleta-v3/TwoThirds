{
 "cells": [
  {
   "cell_type": "markdown",
   "metadata": {},
   "source": [
    "# Demo of the two thirds library\n",
    "\n",
    "This notebook gives a demo of the two thirds library which can be used to analyse runnings of the two thirds library.\n",
    "\n",
    "To install the library you can run `pip install twothirds` or get the git repository [here]()."
   ]
  },
  {
   "cell_type": "markdown",
   "metadata": {},
   "source": [
    "## A basic single game"
   ]
  },
  {
   "cell_type": "code",
   "execution_count": 167,
   "metadata": {
    "collapsed": true
   },
   "outputs": [],
   "source": [
    "import twothirds \n",
    "import random"
   ]
  },
  {
   "cell_type": "markdown",
   "metadata": {},
   "source": [
    "Let as assume we have the following list of random guesses:"
   ]
  },
  {
   "cell_type": "code",
   "execution_count": 168,
   "metadata": {
    "collapsed": false
   },
   "outputs": [],
   "source": [
    "N = 2000\n",
    "guesses = [int(round(random.triangular(0, 100, 44), 0)) for k in range(N)]"
   ]
  },
  {
   "cell_type": "markdown",
   "metadata": {},
   "source": [
    "Now we create a single game instance"
   ]
  },
  {
   "cell_type": "code",
   "execution_count": 169,
   "metadata": {
    "collapsed": true
   },
   "outputs": [],
   "source": [
    "g = twothirds.TwoThirdsGame(guesses)"
   ]
  },
  {
   "cell_type": "markdown",
   "metadata": {},
   "source": [
    "Let's find the two thirds of the average:"
   ]
  },
  {
   "cell_type": "code",
   "execution_count": 170,
   "metadata": {
    "collapsed": false
   },
   "outputs": [
    {
     "data": {
      "text/plain": [
       "32.160666666666664"
      ]
     },
     "execution_count": 170,
     "metadata": {},
     "output_type": "execute_result"
    }
   ],
   "source": [
    "g.two_thirds_of_the_average()"
   ]
  },
  {
   "cell_type": "markdown",
   "metadata": {},
   "source": [
    "We can identify the winning guess:"
   ]
  },
  {
   "cell_type": "code",
   "execution_count": 171,
   "metadata": {
    "collapsed": false
   },
   "outputs": [
    {
     "data": {
      "text/plain": [
       "32"
      ]
     },
     "execution_count": 171,
     "metadata": {},
     "output_type": "execute_result"
    }
   ],
   "source": [
    "g.find_winner()"
   ]
  },
  {
   "cell_type": "markdown",
   "metadata": {},
   "source": [
    "Note that the data could also be in the form of a dictionary that maps names of players to guesses:"
   ]
  },
  {
   "cell_type": "code",
   "execution_count": 172,
   "metadata": {
    "collapsed": true
   },
   "outputs": [],
   "source": [
    "import string\n",
    "\n",
    "def randomword(length):\n",
    "    \"\"\"A function to generate a random name: http://stackoverflow.com/questions/2030053/random-strings-in-python\"\"\"\n",
    "    return ''.join(random.choice(string.lowercase) for i in range(length))\n",
    "\n",
    "guesses = {randomword(8):guess for guess in guesses}"
   ]
  },
  {
   "cell_type": "code",
   "execution_count": 173,
   "metadata": {
    "collapsed": true
   },
   "outputs": [],
   "source": [
    "g = twothirds.TwoThirdsGame(guesses)"
   ]
  },
  {
   "cell_type": "code",
   "execution_count": 174,
   "metadata": {
    "collapsed": false
   },
   "outputs": [
    {
     "data": {
      "text/plain": [
       "32.160666666666664"
      ]
     },
     "execution_count": 174,
     "metadata": {},
     "output_type": "execute_result"
    }
   ],
   "source": [
    "g.two_thirds_of_the_average()"
   ]
  },
  {
   "cell_type": "markdown",
   "metadata": {},
   "source": [
    "We see that quite a few people __won__."
   ]
  },
  {
   "cell_type": "code",
   "execution_count": 175,
   "metadata": {
    "collapsed": false
   },
   "outputs": [
    {
     "data": {
      "text/plain": [
       "('aumpasae',\n",
       " 'bluacvbm',\n",
       " 'bsiwmfzu',\n",
       " 'cyxrlrcv',\n",
       " 'ecnfmeke',\n",
       " 'eqsdhfql',\n",
       " 'ftbwayho',\n",
       " 'gqsipzkb',\n",
       " 'hscwpmpa',\n",
       " 'knqwaakp',\n",
       " 'kvjlwcgb',\n",
       " 'lonqwsxo',\n",
       " 'ntabhrfv',\n",
       " 'ovegowtf',\n",
       " 'owwohxad',\n",
       " 'plkkxgqx',\n",
       " 'txqajewl',\n",
       " 'unppkayv',\n",
       " 'vonwohab',\n",
       " 'wjhzgcgz',\n",
       " 'wzwieqne',\n",
       " 'xjnfsmrr',\n",
       " 'xygwpely',\n",
       " 'ybvifxrx',\n",
       " 'zrnaltoc',\n",
       " 32)"
      ]
     },
     "execution_count": 175,
     "metadata": {},
     "output_type": "execute_result"
    }
   ],
   "source": [
    "g.find_winner()"
   ]
  },
  {
   "cell_type": "markdown",
   "metadata": {},
   "source": [
    "## Handling data"
   ]
  },
  {
   "cell_type": "markdown",
   "metadata": {},
   "source": [
    "Note that it might be much easier to collect the data in a spreadsheet. This library allows for that. Let's first write the data file we will be using (in effect doing things backwords)."
   ]
  },
  {
   "cell_type": "code",
   "execution_count": 176,
   "metadata": {
    "collapsed": false
   },
   "outputs": [],
   "source": [
    "import pandas\n",
    "df = pandas.DataFrame(guesses.items())\n",
    "df.to_csv('demo.csv', index=False)"
   ]
  },
  {
   "cell_type": "markdown",
   "metadata": {},
   "source": [
    "We can now read in this data:"
   ]
  },
  {
   "cell_type": "code",
   "execution_count": 177,
   "metadata": {
    "collapsed": true
   },
   "outputs": [],
   "source": [
    "data = twothirds.Data('demo.csv')\n",
    "data.read()"
   ]
  },
  {
   "cell_type": "markdown",
   "metadata": {},
   "source": [
    "The data file has a dataframe attribute:"
   ]
  },
  {
   "cell_type": "code",
   "execution_count": 178,
   "metadata": {
    "collapsed": false
   },
   "outputs": [
    {
     "data": {
      "text/html": [
       "<div style=\"max-height:1000px;max-width:1500px;overflow:auto;\">\n",
       "<table border=\"1\" class=\"dataframe\">\n",
       "  <thead>\n",
       "    <tr style=\"text-align: right;\">\n",
       "      <th></th>\n",
       "      <th>0</th>\n",
       "      <th>1</th>\n",
       "    </tr>\n",
       "  </thead>\n",
       "  <tbody>\n",
       "    <tr>\n",
       "      <th>0</th>\n",
       "      <td> klfuquae</td>\n",
       "      <td> 79</td>\n",
       "    </tr>\n",
       "    <tr>\n",
       "      <th>1</th>\n",
       "      <td> owpilpvz</td>\n",
       "      <td> 75</td>\n",
       "    </tr>\n",
       "    <tr>\n",
       "      <th>2</th>\n",
       "      <td> ajawwcxv</td>\n",
       "      <td> 46</td>\n",
       "    </tr>\n",
       "    <tr>\n",
       "      <th>3</th>\n",
       "      <td> unppkayv</td>\n",
       "      <td> 32</td>\n",
       "    </tr>\n",
       "    <tr>\n",
       "      <th>4</th>\n",
       "      <td> fkhfpvou</td>\n",
       "      <td> 44</td>\n",
       "    </tr>\n",
       "  </tbody>\n",
       "</table>\n",
       "</div>"
      ],
      "text/plain": [
       "          0   1\n",
       "0  klfuquae  79\n",
       "1  owpilpvz  75\n",
       "2  ajawwcxv  46\n",
       "3  unppkayv  32\n",
       "4  fkhfpvou  44"
      ]
     },
     "execution_count": 178,
     "metadata": {},
     "output_type": "execute_result"
    }
   ],
   "source": [
    "data.df.head()"
   ]
  },
  {
   "cell_type": "markdown",
   "metadata": {},
   "source": [
    "We can get the data in a nicer format and ready for use. The format is a list of objects representing every play of the game (so for example we could have a file with muliple columns for each game)."
   ]
  },
  {
   "cell_type": "code",
   "execution_count": 179,
   "metadata": {
    "collapsed": false
   },
   "outputs": [],
   "source": [
    "guesses = data.out()[0]"
   ]
  },
  {
   "cell_type": "markdown",
   "metadata": {},
   "source": [
    "Here we create the game (as above):"
   ]
  },
  {
   "cell_type": "code",
   "execution_count": 180,
   "metadata": {
    "collapsed": true
   },
   "outputs": [],
   "source": [
    "g = twothirds.TwoThirdsGame(guesses)"
   ]
  },
  {
   "cell_type": "code",
   "execution_count": 181,
   "metadata": {
    "collapsed": false
   },
   "outputs": [
    {
     "data": {
      "text/plain": [
       "('aumpasae',\n",
       " 'bluacvbm',\n",
       " 'bsiwmfzu',\n",
       " 'cyxrlrcv',\n",
       " 'ecnfmeke',\n",
       " 'eqsdhfql',\n",
       " 'ftbwayho',\n",
       " 'gqsipzkb',\n",
       " 'hscwpmpa',\n",
       " 'knqwaakp',\n",
       " 'kvjlwcgb',\n",
       " 'lonqwsxo',\n",
       " 'ntabhrfv',\n",
       " 'ovegowtf',\n",
       " 'owwohxad',\n",
       " 'plkkxgqx',\n",
       " 'txqajewl',\n",
       " 'unppkayv',\n",
       " 'vonwohab',\n",
       " 'wjhzgcgz',\n",
       " 'wzwieqne',\n",
       " 'xjnfsmrr',\n",
       " 'xygwpely',\n",
       " 'ybvifxrx',\n",
       " 'zrnaltoc',\n",
       " 32)"
      ]
     },
     "execution_count": 181,
     "metadata": {},
     "output_type": "execute_result"
    }
   ],
   "source": [
    "g.find_winner()"
   ]
  },
  {
   "cell_type": "markdown",
   "metadata": {},
   "source": [
    "## Managing an activity"
   ]
  },
  {
   "cell_type": "markdown",
   "metadata": {},
   "source": [
    "If we have a spreadsheet with multiple columns for guesses we can read it in and create an activity that will contain all the data and analysis we need. Let's tweak our guesses to have a second guess that should be lower than the first."
   ]
  },
  {
   "cell_type": "code",
   "execution_count": 182,
   "metadata": {
    "collapsed": false
   },
   "outputs": [],
   "source": [
    "guesses = [[key, guesses[key], int(random.triangular(0, guesses[key], 1.0 * guesses[key] / 3))] for key in guesses]"
   ]
  },
  {
   "cell_type": "markdown",
   "metadata": {},
   "source": [
    "Here we write the data to file again:"
   ]
  },
  {
   "cell_type": "code",
   "execution_count": 183,
   "metadata": {
    "collapsed": false
   },
   "outputs": [],
   "source": [
    "df = pandas.DataFrame(guesses)\n",
    "df.to_csv('demo.csv', index=False)"
   ]
  },
  {
   "cell_type": "code",
   "execution_count": 184,
   "metadata": {
    "collapsed": true
   },
   "outputs": [],
   "source": [
    "activity = twothirds.Activity('demo.csv')"
   ]
  },
  {
   "cell_type": "markdown",
   "metadata": {},
   "source": [
    "We have still got access to the raw data:"
   ]
  },
  {
   "cell_type": "code",
   "execution_count": 185,
   "metadata": {
    "collapsed": false
   },
   "outputs": [
    {
     "data": {
      "text/html": [
       "<div style=\"max-height:1000px;max-width:1500px;overflow:auto;\">\n",
       "<table border=\"1\" class=\"dataframe\">\n",
       "  <thead>\n",
       "    <tr style=\"text-align: right;\">\n",
       "      <th></th>\n",
       "      <th>0</th>\n",
       "      <th>1</th>\n",
       "      <th>2</th>\n",
       "    </tr>\n",
       "  </thead>\n",
       "  <tbody>\n",
       "    <tr>\n",
       "      <th>0</th>\n",
       "      <td> njvxdcur</td>\n",
       "      <td> 48</td>\n",
       "      <td> 23</td>\n",
       "    </tr>\n",
       "    <tr>\n",
       "      <th>1</th>\n",
       "      <td> klfuquae</td>\n",
       "      <td> 79</td>\n",
       "      <td>  9</td>\n",
       "    </tr>\n",
       "    <tr>\n",
       "      <th>2</th>\n",
       "      <td> owpilpvz</td>\n",
       "      <td> 75</td>\n",
       "      <td> 33</td>\n",
       "    </tr>\n",
       "    <tr>\n",
       "      <th>3</th>\n",
       "      <td> ajawwcxv</td>\n",
       "      <td> 46</td>\n",
       "      <td> 11</td>\n",
       "    </tr>\n",
       "    <tr>\n",
       "      <th>4</th>\n",
       "      <td> mbrhgimm</td>\n",
       "      <td> 12</td>\n",
       "      <td>  2</td>\n",
       "    </tr>\n",
       "  </tbody>\n",
       "</table>\n",
       "</div>"
      ],
      "text/plain": [
       "          0   1   2\n",
       "0  njvxdcur  48  23\n",
       "1  klfuquae  79   9\n",
       "2  owpilpvz  75  33\n",
       "3  ajawwcxv  46  11\n",
       "4  mbrhgimm  12   2"
      ]
     },
     "execution_count": 185,
     "metadata": {},
     "output_type": "execute_result"
    }
   ],
   "source": [
    "activity.raw_data.df.head()"
   ]
  },
  {
   "cell_type": "markdown",
   "metadata": {},
   "source": [
    "We also have an instance for each game:"
   ]
  },
  {
   "cell_type": "code",
   "execution_count": 186,
   "metadata": {
    "collapsed": false
   },
   "outputs": [
    {
     "data": {
      "text/plain": [
       "[<twothirds.single_game.TwoThirdsGame instance at 0x109b2ee18>,\n",
       " <twothirds.single_game.TwoThirdsGame instance at 0x1098dec20>]"
      ]
     },
     "execution_count": 186,
     "metadata": {},
     "output_type": "execute_result"
    }
   ],
   "source": [
    "activity.games"
   ]
  },
  {
   "cell_type": "markdown",
   "metadata": {},
   "source": [
    "The winning guess for each game can be found below:"
   ]
  },
  {
   "cell_type": "code",
   "execution_count": 187,
   "metadata": {
    "collapsed": false
   },
   "outputs": [
    {
     "data": {
      "text/plain": [
       "[32, 14]"
      ]
     },
     "execution_count": 187,
     "metadata": {},
     "output_type": "execute_result"
    }
   ],
   "source": [
    "[g.find_winner()[-1] for g in activity.games]"
   ]
  },
  {
   "cell_type": "markdown",
   "metadata": {},
   "source": [
    "The winners of the first game:"
   ]
  },
  {
   "cell_type": "code",
   "execution_count": 190,
   "metadata": {
    "collapsed": false
   },
   "outputs": [
    {
     "data": {
      "text/plain": [
       "('aumpasae',\n",
       " 'bluacvbm',\n",
       " 'bsiwmfzu',\n",
       " 'cyxrlrcv',\n",
       " 'ecnfmeke',\n",
       " 'eqsdhfql',\n",
       " 'ftbwayho',\n",
       " 'gqsipzkb',\n",
       " 'hscwpmpa',\n",
       " 'knqwaakp',\n",
       " 'kvjlwcgb',\n",
       " 'lonqwsxo',\n",
       " 'ntabhrfv',\n",
       " 'ovegowtf',\n",
       " 'owwohxad',\n",
       " 'plkkxgqx',\n",
       " 'txqajewl',\n",
       " 'unppkayv',\n",
       " 'vonwohab',\n",
       " 'wjhzgcgz',\n",
       " 'wzwieqne',\n",
       " 'xjnfsmrr',\n",
       " 'xygwpely',\n",
       " 'ybvifxrx',\n",
       " 'zrnaltoc')"
      ]
     },
     "execution_count": 190,
     "metadata": {},
     "output_type": "execute_result"
    }
   ],
   "source": [
    "activity.games[0].find_winner()[:-1]"
   ]
  },
  {
   "cell_type": "markdown",
   "metadata": {},
   "source": [
    "The winners of the second game (there are more of them):"
   ]
  },
  {
   "cell_type": "code",
   "execution_count": 193,
   "metadata": {
    "collapsed": false
   },
   "outputs": [
    {
     "data": {
      "text/plain": [
       "('acpbdoye',\n",
       " 'aumpasae',\n",
       " 'bakytuzo',\n",
       " 'bbmaxpmz',\n",
       " 'bbmmfxum',\n",
       " 'bcnbeimo',\n",
       " 'bfpwzyjj',\n",
       " 'bftskxvj',\n",
       " 'bipqysek',\n",
       " 'buexjetr',\n",
       " 'clrbwwes',\n",
       " 'cmmazcap',\n",
       " 'cqlrbabf',\n",
       " 'cyqylgif',\n",
       " 'daycidre',\n",
       " 'diadizsb',\n",
       " 'dqgzwohr',\n",
       " 'eiylwgqb',\n",
       " 'ejhmgyzu',\n",
       " 'epxpsbej',\n",
       " 'ermaxyjy',\n",
       " 'ervvjcih',\n",
       " 'eunzwgem',\n",
       " 'euxbrxew',\n",
       " 'fdqmtfwy',\n",
       " 'fhamncxn',\n",
       " 'ghajztdb',\n",
       " 'ghhjozmy',\n",
       " 'gwwaxiak',\n",
       " 'hddxofkp',\n",
       " 'hlrevehj',\n",
       " 'hvnbnhxl',\n",
       " 'ileownzt',\n",
       " 'jrezsbkt',\n",
       " 'jteugclx',\n",
       " 'jzzegfyi',\n",
       " 'kaijyewh',\n",
       " 'lipfkzwk',\n",
       " 'ltevxrlw',\n",
       " 'mdexxgoy',\n",
       " 'mrnzpzqq',\n",
       " 'nighzieu',\n",
       " 'opviebjj',\n",
       " 'owwohxad',\n",
       " 'oxzivgqt',\n",
       " 'panhqqvd',\n",
       " 'pcptzcts',\n",
       " 'pnmgqyjy',\n",
       " 'pranlsag',\n",
       " 'pudczrsy',\n",
       " 'pwjmxmje',\n",
       " 'pxfdfaba',\n",
       " 'qiuqiamx',\n",
       " 'qjzxwpek',\n",
       " 'qpjxslxo',\n",
       " 'rmedvdfn',\n",
       " 'rthshxnw',\n",
       " 'stszxnvi',\n",
       " 'tfsvojnj',\n",
       " 'tnadgmkb',\n",
       " 'toitqpnb',\n",
       " 'toqmeggv',\n",
       " 'uebdsmls',\n",
       " 'ulqzfvsb',\n",
       " 'uodqeubu',\n",
       " 'vwmsdpqi',\n",
       " 'wfdhunsx',\n",
       " 'wkfklsbk',\n",
       " 'wvhdktgz',\n",
       " 'xieoaxas',\n",
       " 'xzlysclr',\n",
       " 'ygvgbokw',\n",
       " 'yqnokgdu',\n",
       " 'yrgladzr',\n",
       " 'ytkhevjw',\n",
       " 'zrsdgkhh',\n",
       " 'ztqjhuam')"
      ]
     },
     "execution_count": 193,
     "metadata": {},
     "output_type": "execute_result"
    }
   ],
   "source": [
    "activity.games[1].find_winner()[:-1]"
   ]
  },
  {
   "cell_type": "code",
   "execution_count": null,
   "metadata": {
    "collapsed": true
   },
   "outputs": [],
   "source": []
  }
 ],
 "metadata": {
  "kernelspec": {
   "display_name": "Python 2",
   "language": "python",
   "name": "python2"
  },
  "language_info": {
   "codemirror_mode": {
    "name": "ipython",
    "version": 2
   },
   "file_extension": ".py",
   "mimetype": "text/x-python",
   "name": "python",
   "nbconvert_exporter": "python",
   "pygments_lexer": "ipython2",
   "version": "2.7.8"
  }
 },
 "nbformat": 4,
 "nbformat_minor": 0
}
