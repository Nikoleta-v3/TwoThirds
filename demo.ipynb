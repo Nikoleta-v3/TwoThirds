{
 "cells": [
  {
   "cell_type": "markdown",
   "metadata": {},
   "source": [
    "# Demo of the two thirds library\n",
    "\n",
    "This notebook gives a demo of the two thirds library which can be used to analyse runnings of the two thirds library.\n",
    "\n",
    "To install the library you can run `pip install twothirds` or get the git repository [here]()."
   ]
  },
  {
   "cell_type": "markdown",
   "metadata": {},
   "source": [
    "## A basic single game"
   ]
  },
  {
   "cell_type": "code",
   "execution_count": 8,
   "metadata": {
    "collapsed": false
   },
   "outputs": [],
   "source": [
    "import twothirds \n",
    "import random"
   ]
  },
  {
   "cell_type": "markdown",
   "metadata": {},
   "source": [
    "Let as assume we have the following list of random guesses:"
   ]
  },
  {
   "cell_type": "code",
   "execution_count": 9,
   "metadata": {
    "collapsed": false
   },
   "outputs": [],
   "source": [
    "N = 2000\n",
    "guesses = [int(round(random.triangular(0, 100, 44), 0)) for k in range(N)]"
   ]
  },
  {
   "cell_type": "markdown",
   "metadata": {},
   "source": [
    "Now we create a single game instance"
   ]
  },
  {
   "cell_type": "code",
   "execution_count": 10,
   "metadata": {
    "collapsed": true
   },
   "outputs": [],
   "source": [
    "g = twothirds.TwoThirdsGame(guesses)"
   ]
  },
  {
   "cell_type": "markdown",
   "metadata": {},
   "source": [
    "Let's find the two thirds of the average:"
   ]
  },
  {
   "cell_type": "code",
   "execution_count": 11,
   "metadata": {
    "collapsed": false
   },
   "outputs": [
    {
     "data": {
      "text/plain": [
       "32.324333333333335"
      ]
     },
     "execution_count": 11,
     "metadata": {},
     "output_type": "execute_result"
    }
   ],
   "source": [
    "g.two_thirds_of_the_average()"
   ]
  },
  {
   "cell_type": "markdown",
   "metadata": {},
   "source": [
    "We can identify the winning guess:"
   ]
  },
  {
   "cell_type": "code",
   "execution_count": 12,
   "metadata": {
    "collapsed": false
   },
   "outputs": [
    {
     "data": {
      "text/plain": [
       "('Anonymous', 32)"
      ]
     },
     "execution_count": 12,
     "metadata": {},
     "output_type": "execute_result"
    }
   ],
   "source": [
    "g.find_winner()"
   ]
  },
  {
   "cell_type": "markdown",
   "metadata": {},
   "source": [
    "Note that the data could also be in the form of a dictionary that maps names of players to guesses:"
   ]
  },
  {
   "cell_type": "code",
   "execution_count": 13,
   "metadata": {
    "collapsed": true
   },
   "outputs": [],
   "source": [
    "import string\n",
    "\n",
    "def randomword(length):\n",
    "    \"\"\"A function to generate a random name: http://stackoverflow.com/questions/2030053/random-strings-in-python\"\"\"\n",
    "    return ''.join(random.choice(string.lowercase) for i in range(length))\n",
    "\n",
    "guesses = {randomword(8):guess for guess in guesses}"
   ]
  },
  {
   "cell_type": "code",
   "execution_count": 14,
   "metadata": {
    "collapsed": true
   },
   "outputs": [],
   "source": [
    "g = twothirds.TwoThirdsGame(guesses)"
   ]
  },
  {
   "cell_type": "code",
   "execution_count": 15,
   "metadata": {
    "collapsed": false
   },
   "outputs": [
    {
     "data": {
      "text/plain": [
       "32.324333333333335"
      ]
     },
     "execution_count": 15,
     "metadata": {},
     "output_type": "execute_result"
    }
   ],
   "source": [
    "g.two_thirds_of_the_average()"
   ]
  },
  {
   "cell_type": "markdown",
   "metadata": {},
   "source": [
    "We see that quite a few people __won__."
   ]
  },
  {
   "cell_type": "code",
   "execution_count": 16,
   "metadata": {
    "collapsed": false
   },
   "outputs": [
    {
     "data": {
      "text/plain": [
       "('bftnvtnk',\n",
       " 'bhdbctta',\n",
       " 'cpkarohu',\n",
       " 'dwhtspmf',\n",
       " 'eghicvyv',\n",
       " 'erfhbiao',\n",
       " 'etycgdnd',\n",
       " 'fzvjrjmk',\n",
       " 'ienqvajd',\n",
       " 'irawscer',\n",
       " 'jkwhrrkd',\n",
       " 'krwaztxb',\n",
       " 'lvrqqzij',\n",
       " 'mpcsqhzw',\n",
       " 'nstdddev',\n",
       " 'nvfkkcme',\n",
       " 'nxjjvdat',\n",
       " 'oohwlduc',\n",
       " 'oznasprl',\n",
       " 'phudmnto',\n",
       " 'pmlsixjf',\n",
       " 'rzqlceqp',\n",
       " 'sbrlodcz',\n",
       " 'tbaloqzd',\n",
       " 'tdclrlpt',\n",
       " 'tuyqawzj',\n",
       " 'ueaqnlon',\n",
       " 'uenmsrfe',\n",
       " 'vnlrvqgl',\n",
       " 'vwqnkxfz',\n",
       " 'wdfbbddk',\n",
       " 'yyaeuhsa',\n",
       " 'zaqnavvx',\n",
       " 'zjonvgwe',\n",
       " 32)"
      ]
     },
     "execution_count": 16,
     "metadata": {},
     "output_type": "execute_result"
    }
   ],
   "source": [
    "g.find_winner()"
   ]
  },
  {
   "cell_type": "markdown",
   "metadata": {},
   "source": [
    "## Handling data"
   ]
  },
  {
   "cell_type": "markdown",
   "metadata": {},
   "source": [
    "Note that it might be much easier to collect the data in a spreadsheet. This library allows for that. Let's first write the data file we will be using (in effect doing things backwords)."
   ]
  },
  {
   "cell_type": "code",
   "execution_count": 17,
   "metadata": {
    "collapsed": false
   },
   "outputs": [],
   "source": [
    "import pandas\n",
    "df = pandas.DataFrame(guesses.items())\n",
    "df.to_csv('demo.csv', index=False)"
   ]
  },
  {
   "cell_type": "markdown",
   "metadata": {},
   "source": [
    "We can now read in this data:"
   ]
  },
  {
   "cell_type": "code",
   "execution_count": 18,
   "metadata": {
    "collapsed": true
   },
   "outputs": [],
   "source": [
    "data = twothirds.Data('demo.csv')\n",
    "data.read()"
   ]
  },
  {
   "cell_type": "markdown",
   "metadata": {},
   "source": [
    "The data file has a dataframe attribute:"
   ]
  },
  {
   "cell_type": "code",
   "execution_count": 19,
   "metadata": {
    "collapsed": false
   },
   "outputs": [
    {
     "data": {
      "text/html": [
       "<div style=\"max-height:1000px;max-width:1500px;overflow:auto;\">\n",
       "<table border=\"1\" class=\"dataframe\">\n",
       "  <thead>\n",
       "    <tr style=\"text-align: right;\">\n",
       "      <th></th>\n",
       "      <th>0</th>\n",
       "      <th>1</th>\n",
       "    </tr>\n",
       "  </thead>\n",
       "  <tbody>\n",
       "    <tr>\n",
       "      <th>0</th>\n",
       "      <td> ggxeovzs</td>\n",
       "      <td> 33</td>\n",
       "    </tr>\n",
       "    <tr>\n",
       "      <th>1</th>\n",
       "      <td> gmsfcvsy</td>\n",
       "      <td> 40</td>\n",
       "    </tr>\n",
       "    <tr>\n",
       "      <th>2</th>\n",
       "      <td> herxpukf</td>\n",
       "      <td> 44</td>\n",
       "    </tr>\n",
       "    <tr>\n",
       "      <th>3</th>\n",
       "      <td> hafbntkw</td>\n",
       "      <td> 62</td>\n",
       "    </tr>\n",
       "    <tr>\n",
       "      <th>4</th>\n",
       "      <td> gasaldxu</td>\n",
       "      <td> 36</td>\n",
       "    </tr>\n",
       "  </tbody>\n",
       "</table>\n",
       "</div>"
      ],
      "text/plain": [
       "          0   1\n",
       "0  ggxeovzs  33\n",
       "1  gmsfcvsy  40\n",
       "2  herxpukf  44\n",
       "3  hafbntkw  62\n",
       "4  gasaldxu  36"
      ]
     },
     "execution_count": 19,
     "metadata": {},
     "output_type": "execute_result"
    }
   ],
   "source": [
    "data.df.head()"
   ]
  },
  {
   "cell_type": "markdown",
   "metadata": {},
   "source": [
    "We can get the data in a nicer format and ready for use. The format is a list of objects representing every play of the game (so for example we could have a file with muliple columns for each game)."
   ]
  },
  {
   "cell_type": "code",
   "execution_count": 20,
   "metadata": {
    "collapsed": false
   },
   "outputs": [],
   "source": [
    "guesses = data.out()[0]"
   ]
  },
  {
   "cell_type": "markdown",
   "metadata": {},
   "source": [
    "Here we create the game (as above):"
   ]
  },
  {
   "cell_type": "code",
   "execution_count": 21,
   "metadata": {
    "collapsed": true
   },
   "outputs": [],
   "source": [
    "g = twothirds.TwoThirdsGame(guesses)"
   ]
  },
  {
   "cell_type": "code",
   "execution_count": 22,
   "metadata": {
    "collapsed": false
   },
   "outputs": [
    {
     "data": {
      "text/plain": [
       "('bftnvtnk',\n",
       " 'bhdbctta',\n",
       " 'cpkarohu',\n",
       " 'dwhtspmf',\n",
       " 'eghicvyv',\n",
       " 'erfhbiao',\n",
       " 'etycgdnd',\n",
       " 'fzvjrjmk',\n",
       " 'ienqvajd',\n",
       " 'irawscer',\n",
       " 'jkwhrrkd',\n",
       " 'krwaztxb',\n",
       " 'lvrqqzij',\n",
       " 'mpcsqhzw',\n",
       " 'nstdddev',\n",
       " 'nvfkkcme',\n",
       " 'nxjjvdat',\n",
       " 'oohwlduc',\n",
       " 'oznasprl',\n",
       " 'phudmnto',\n",
       " 'pmlsixjf',\n",
       " 'rzqlceqp',\n",
       " 'sbrlodcz',\n",
       " 'tbaloqzd',\n",
       " 'tdclrlpt',\n",
       " 'tuyqawzj',\n",
       " 'ueaqnlon',\n",
       " 'uenmsrfe',\n",
       " 'vnlrvqgl',\n",
       " 'vwqnkxfz',\n",
       " 'wdfbbddk',\n",
       " 'yyaeuhsa',\n",
       " 'zaqnavvx',\n",
       " 'zjonvgwe',\n",
       " 32)"
      ]
     },
     "execution_count": 22,
     "metadata": {},
     "output_type": "execute_result"
    }
   ],
   "source": [
    "g.find_winner()"
   ]
  },
  {
   "cell_type": "markdown",
   "metadata": {},
   "source": [
    "## Managing an activity"
   ]
  },
  {
   "cell_type": "markdown",
   "metadata": {},
   "source": [
    "If we have a spreadsheet with multiple columns for guesses we can read it in and create an activity that will contain all the data and analysis we need. Let's tweak our guesses to have a second guess that should be lower than the first."
   ]
  },
  {
   "cell_type": "code",
   "execution_count": 23,
   "metadata": {
    "collapsed": false
   },
   "outputs": [],
   "source": [
    "guesses = [[key, guesses[key], int(random.triangular(0, guesses[key], 1.0 * guesses[key] / 3))] for key in guesses]"
   ]
  },
  {
   "cell_type": "markdown",
   "metadata": {},
   "source": [
    "Here we write the data to file again:"
   ]
  },
  {
   "cell_type": "code",
   "execution_count": 24,
   "metadata": {
    "collapsed": false
   },
   "outputs": [],
   "source": [
    "df = pandas.DataFrame(guesses)\n",
    "df.to_csv('demo.csv', index=False)"
   ]
  },
  {
   "cell_type": "code",
   "execution_count": 25,
   "metadata": {
    "collapsed": true
   },
   "outputs": [],
   "source": [
    "activity = twothirds.Activity('demo.csv')"
   ]
  },
  {
   "cell_type": "markdown",
   "metadata": {},
   "source": [
    "We have still got access to the raw data:"
   ]
  },
  {
   "cell_type": "code",
   "execution_count": 26,
   "metadata": {
    "collapsed": false
   },
   "outputs": [
    {
     "data": {
      "text/html": [
       "<div style=\"max-height:1000px;max-width:1500px;overflow:auto;\">\n",
       "<table border=\"1\" class=\"dataframe\">\n",
       "  <thead>\n",
       "    <tr style=\"text-align: right;\">\n",
       "      <th></th>\n",
       "      <th>0</th>\n",
       "      <th>1</th>\n",
       "      <th>2</th>\n",
       "    </tr>\n",
       "  </thead>\n",
       "  <tbody>\n",
       "    <tr>\n",
       "      <th>0</th>\n",
       "      <td> ggxeovzs</td>\n",
       "      <td> 33</td>\n",
       "      <td>  8</td>\n",
       "    </tr>\n",
       "    <tr>\n",
       "      <th>1</th>\n",
       "      <td> gmsfcvsy</td>\n",
       "      <td> 40</td>\n",
       "      <td> 19</td>\n",
       "    </tr>\n",
       "    <tr>\n",
       "      <th>2</th>\n",
       "      <td> herxpukf</td>\n",
       "      <td> 44</td>\n",
       "      <td> 17</td>\n",
       "    </tr>\n",
       "    <tr>\n",
       "      <th>3</th>\n",
       "      <td> hafbntkw</td>\n",
       "      <td> 62</td>\n",
       "      <td> 36</td>\n",
       "    </tr>\n",
       "    <tr>\n",
       "      <th>4</th>\n",
       "      <td> gasaldxu</td>\n",
       "      <td> 36</td>\n",
       "      <td> 11</td>\n",
       "    </tr>\n",
       "  </tbody>\n",
       "</table>\n",
       "</div>"
      ],
      "text/plain": [
       "          0   1   2\n",
       "0  ggxeovzs  33   8\n",
       "1  gmsfcvsy  40  19\n",
       "2  herxpukf  44  17\n",
       "3  hafbntkw  62  36\n",
       "4  gasaldxu  36  11"
      ]
     },
     "execution_count": 26,
     "metadata": {},
     "output_type": "execute_result"
    }
   ],
   "source": [
    "activity.raw_data.df.head()"
   ]
  },
  {
   "cell_type": "markdown",
   "metadata": {},
   "source": [
    "We also have an instance for each game:"
   ]
  },
  {
   "cell_type": "code",
   "execution_count": 27,
   "metadata": {
    "collapsed": false
   },
   "outputs": [
    {
     "data": {
      "text/plain": [
       "[<twothirds.single_game.TwoThirdsGame instance at 0x112f0fe60>,\n",
       " <twothirds.single_game.TwoThirdsGame instance at 0x112f0fef0>]"
      ]
     },
     "execution_count": 27,
     "metadata": {},
     "output_type": "execute_result"
    }
   ],
   "source": [
    "activity.games"
   ]
  },
  {
   "cell_type": "markdown",
   "metadata": {},
   "source": [
    "The winning guess for each game can be found below:"
   ]
  },
  {
   "cell_type": "code",
   "execution_count": 28,
   "metadata": {
    "collapsed": false
   },
   "outputs": [
    {
     "data": {
      "text/plain": [
       "[32, 14]"
      ]
     },
     "execution_count": 28,
     "metadata": {},
     "output_type": "execute_result"
    }
   ],
   "source": [
    "[g.find_winner()[-1] for g in activity.games]"
   ]
  },
  {
   "cell_type": "markdown",
   "metadata": {},
   "source": [
    "The winners of the first game:"
   ]
  },
  {
   "cell_type": "code",
   "execution_count": 29,
   "metadata": {
    "collapsed": false
   },
   "outputs": [
    {
     "data": {
      "text/plain": [
       "('bftnvtnk',\n",
       " 'bhdbctta',\n",
       " 'cpkarohu',\n",
       " 'dwhtspmf',\n",
       " 'eghicvyv',\n",
       " 'erfhbiao',\n",
       " 'etycgdnd',\n",
       " 'fzvjrjmk',\n",
       " 'ienqvajd',\n",
       " 'irawscer',\n",
       " 'jkwhrrkd',\n",
       " 'krwaztxb',\n",
       " 'lvrqqzij',\n",
       " 'mpcsqhzw',\n",
       " 'nstdddev',\n",
       " 'nvfkkcme',\n",
       " 'nxjjvdat',\n",
       " 'oohwlduc',\n",
       " 'oznasprl',\n",
       " 'phudmnto',\n",
       " 'pmlsixjf',\n",
       " 'rzqlceqp',\n",
       " 'sbrlodcz',\n",
       " 'tbaloqzd',\n",
       " 'tdclrlpt',\n",
       " 'tuyqawzj',\n",
       " 'ueaqnlon',\n",
       " 'uenmsrfe',\n",
       " 'vnlrvqgl',\n",
       " 'vwqnkxfz',\n",
       " 'wdfbbddk',\n",
       " 'yyaeuhsa',\n",
       " 'zaqnavvx',\n",
       " 'zjonvgwe')"
      ]
     },
     "execution_count": 29,
     "metadata": {},
     "output_type": "execute_result"
    }
   ],
   "source": [
    "activity.games[0].find_winner()[:-1]"
   ]
  },
  {
   "cell_type": "markdown",
   "metadata": {},
   "source": [
    "The winners of the second game (there are more of them):"
   ]
  },
  {
   "cell_type": "code",
   "execution_count": 30,
   "metadata": {
    "collapsed": false
   },
   "outputs": [
    {
     "data": {
      "text/plain": [
       "('agtdjyfm',\n",
       " 'bbcizfms',\n",
       " 'bkxjbaws',\n",
       " 'bsszepzl',\n",
       " 'cbmlchiw',\n",
       " 'crynfarr',\n",
       " 'dgdrwnig',\n",
       " 'dnzdbeyq',\n",
       " 'ejipkquj',\n",
       " 'ggipjwve',\n",
       " 'gzydmpih',\n",
       " 'hrhwuuqk',\n",
       " 'hvpwrqtq',\n",
       " 'ieraiisi',\n",
       " 'ievulewi',\n",
       " 'iezxzvsw',\n",
       " 'imigsfjz',\n",
       " 'ipmbtfee',\n",
       " 'iygdnjvu',\n",
       " 'izuyxxek',\n",
       " 'jdlqeqxk',\n",
       " 'jhzjshdg',\n",
       " 'jvqrxfjr',\n",
       " 'kaaratxb',\n",
       " 'keyvnojc',\n",
       " 'kiprznwn',\n",
       " 'kodvvlmv',\n",
       " 'kyoiqcrx',\n",
       " 'laumrmvj',\n",
       " 'lbhjwxui',\n",
       " 'lmiidziu',\n",
       " 'ltrdjtpj',\n",
       " 'mpcsqhzw',\n",
       " 'nimnptog',\n",
       " 'nivyzvon',\n",
       " 'noflqaml',\n",
       " 'npnznkgy',\n",
       " 'nydwuujr',\n",
       " 'ovzdrmhe',\n",
       " 'qeaskwnt',\n",
       " 'qsuykuxz',\n",
       " 'qwywxfvz',\n",
       " 'qyxrjgpe',\n",
       " 'qzhxfjwl',\n",
       " 'rbesbodv',\n",
       " 'smziwarh',\n",
       " 'srhmnhug',\n",
       " 'toyjfloq',\n",
       " 'tpznifmq',\n",
       " 'tpzrtkox',\n",
       " 'tsgkmfyd',\n",
       " 'tuvszott',\n",
       " 'ubobpqek',\n",
       " 'ueaqnlon',\n",
       " 'vfjustmg',\n",
       " 'vkvlvvvv',\n",
       " 'vnvebajo',\n",
       " 'wakfmiyc',\n",
       " 'wkbzeaof',\n",
       " 'wqlalxqt',\n",
       " 'wrbzfmgb',\n",
       " 'xfstaxxd',\n",
       " 'xjbzoopn',\n",
       " 'xojsvfgh',\n",
       " 'xxjsiulo',\n",
       " 'yetrogwb',\n",
       " 'yibzimez',\n",
       " 'ynmohdpy',\n",
       " 'yxekztfu')"
      ]
     },
     "execution_count": 30,
     "metadata": {},
     "output_type": "execute_result"
    }
   ],
   "source": [
    "activity.games[1].find_winner()[:-1]"
   ]
  },
  {
   "cell_type": "markdown",
   "metadata": {},
   "source": [
    "The library has some inbuilt plots:"
   ]
  },
  {
   "cell_type": "code",
   "execution_count": 31,
   "metadata": {
    "collapsed": false,
    "scrolled": false
   },
   "outputs": [
    {
     "data": {
      "image/png": "[encoded data removed]",
      "text/plain": [
       "<matplotlib.figure.Figure at 0x112e5a910>"
      ]
     },
     "metadata": {},
     "output_type": "display_data"
    },
    {
     "data": {
      "text/plain": [
       "<matplotlib.figure.Figure at 0x112ccab10>"
      ]
     },
     "metadata": {},
     "output_type": "display_data"
    },
    {
     "data": {
      "image/png": "[encoded data removed]",
      "text/plain": [
       "<matplotlib.figure.Figure at 0x112ccaa90>"
      ]
     },
     "metadata": {},
     "output_type": "display_data"
    }
   ],
   "source": [
    "%matplotlib inline\n",
    "activity.analyse()\n",
    "activity.distplot();\n",
    "activity.pairplot();"
   ]
  },
  {
   "cell_type": "markdown",
   "metadata": {},
   "source": [
    "Finally you can see a summary of everything here:"
   ]
  },
  {
   "cell_type": "code",
   "execution_count": 32,
   "metadata": {
    "collapsed": false
   },
   "outputs": [
    {
     "data": {
      "text/plain": [
       "=====================\n",
       "Game 0\n",
       "---------------------\n",
       "2/3rds of the average: 32.32\n",
       "Winning guess: 32\n",
       "Winner(s): ('bftnvtnk', 'bhdbctta', 'cpkarohu', 'dwhtspmf', 'eghicvyv', 'erfhbiao', 'etycgdnd', 'fzvjrjmk', 'ienqvajd', 'irawscer', 'jkwhrrkd', 'krwaztxb', 'lvrqqzij', 'mpcsqhzw', 'nstdddev', 'nvfkkcme', 'nxjjvdat', 'oohwlduc', 'oznasprl', 'phudmnto', 'pmlsixjf', 'rzqlceqp', 'sbrlodcz', 'tbaloqzd', 'tdclrlpt', 'tuyqawzj', 'ueaqnlon', 'uenmsrfe', 'vnlrvqgl', 'vwqnkxfz', 'wdfbbddk', 'yyaeuhsa', 'zaqnavvx', 'zjonvgwe')\n",
       "=====================\n",
       "Game 1\n",
       "---------------------\n",
       "2/3rds of the average: 14.08\n",
       "Winning guess: 14\n",
       "Winner(s): ('agtdjyfm', 'bbcizfms', 'bkxjbaws', 'bsszepzl', 'cbmlchiw', 'crynfarr', 'dgdrwnig', 'dnzdbeyq', 'ejipkquj', 'ggipjwve', 'gzydmpih', 'hrhwuuqk', 'hvpwrqtq', 'ieraiisi', 'ievulewi', 'iezxzvsw', 'imigsfjz', 'ipmbtfee', 'iygdnjvu', 'izuyxxek', 'jdlqeqxk', 'jhzjshdg', 'jvqrxfjr', 'kaaratxb', 'keyvnojc', 'kiprznwn', 'kodvvlmv', 'kyoiqcrx', 'laumrmvj', 'lbhjwxui', 'lmiidziu', 'ltrdjtpj', 'mpcsqhzw', 'nimnptog', 'nivyzvon', 'noflqaml', 'npnznkgy', 'nydwuujr', 'ovzdrmhe', 'qeaskwnt', 'qsuykuxz', 'qwywxfvz', 'qyxrjgpe', 'qzhxfjwl', 'rbesbodv', 'smziwarh', 'srhmnhug', 'toyjfloq', 'tpznifmq', 'tpzrtkox', 'tsgkmfyd', 'tuvszott', 'ubobpqek', 'ueaqnlon', 'vfjustmg', 'vkvlvvvv', 'vnvebajo', 'wakfmiyc', 'wkbzeaof', 'wqlalxqt', 'wrbzfmgb', 'xfstaxxd', 'xjbzoopn', 'xojsvfgh', 'xxjsiulo', 'yetrogwb', 'yibzimez', 'ynmohdpy', 'yxekztfu')"
      ]
     },
     "execution_count": 32,
     "metadata": {},
     "output_type": "execute_result"
    }
   ],
   "source": [
    "activity"
   ]
  },
  {
   "cell_type": "markdown",
   "metadata": {},
   "source": [
    "Here is a larger example"
   ]
  },
  {
   "cell_type": "code",
   "execution_count": 33,
   "metadata": {
    "collapsed": false
   },
   "outputs": [],
   "source": [
    "import twothirds\n",
    "activity = twothirds.Activity('data.csv')"
   ]
  },
  {
   "cell_type": "code",
   "execution_count": 34,
   "metadata": {
    "collapsed": false
   },
   "outputs": [],
   "source": [
    "activity.analyse()"
   ]
  },
  {
   "cell_type": "code",
   "execution_count": 35,
   "metadata": {
    "collapsed": false
   },
   "outputs": [
    {
     "data": {
      "image/png": "[encoded data removed]",
      "text/plain": [
       "<matplotlib.figure.Figure at 0x10e0d7490>"
      ]
     },
     "metadata": {},
     "output_type": "display_data"
    },
    {
     "data": {
      "text/plain": [
       "<matplotlib.figure.Figure at 0x10e0d7b10>"
      ]
     },
     "metadata": {},
     "output_type": "display_data"
    },
    {
     "data": {
      "image/png": "[encoded data removed]",
      "text/plain": [
       "<matplotlib.figure.Figure at 0x112b17fd0>"
      ]
     },
     "metadata": {},
     "output_type": "display_data"
    }
   ],
   "source": [
    "%matplotlib inline\n",
    "activity.distplot();\n",
    "activity.pairplot();"
   ]
  },
  {
   "cell_type": "code",
   "execution_count": null,
   "metadata": {
    "collapsed": true
   },
   "outputs": [],
   "source": []
  }
 ],
 "metadata": {
  "kernelspec": {
   "display_name": "Python 2",
   "language": "python",
   "name": "python2"
  },
  "language_info": {
   "codemirror_mode": {
    "name": "ipython",
    "version": 2
   },
   "file_extension": ".py",
   "mimetype": "text/x-python",
   "name": "python",
   "nbconvert_exporter": "python",
   "pygments_lexer": "ipython2",
   "version": "2.7.8"
  }
 },
 "nbformat": 4,
 "nbformat_minor": 0
}
