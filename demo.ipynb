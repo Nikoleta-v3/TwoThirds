{
 "cells": [
  {
   "cell_type": "markdown",
   "metadata": {},
   "source": [
    "# Demo of the two thirds library\n",
    "\n",
    "This notebook gives a demo of the two thirds library which can be used to analyse runnings of the two thirds library.\n",
    "\n",
    "To install the library you can run `pip install twothirds` or get the git repository [here]()."
   ]
  },
  {
   "cell_type": "markdown",
   "metadata": {},
   "source": [
    "## A basic single game"
   ]
  },
  {
   "cell_type": "code",
   "execution_count": 1,
   "metadata": {
    "collapsed": false
   },
   "outputs": [],
   "source": [
    "import twothirds \n",
    "import random"
   ]
  },
  {
   "cell_type": "markdown",
   "metadata": {},
   "source": [
    "Let as assume we have the following list of random guesses:"
   ]
  },
  {
   "cell_type": "code",
   "execution_count": 2,
   "metadata": {
    "collapsed": false
   },
   "outputs": [],
   "source": [
    "N = 2000\n",
    "guesses = [int(round(random.triangular(0, 100, 44), 0)) for k in range(N)]"
   ]
  },
  {
   "cell_type": "markdown",
   "metadata": {},
   "source": [
    "Now we create a single game instance"
   ]
  },
  {
   "cell_type": "code",
   "execution_count": 3,
   "metadata": {
    "collapsed": true
   },
   "outputs": [],
   "source": [
    "g = twothirds.TwoThirdsGame(guesses)"
   ]
  },
  {
   "cell_type": "markdown",
   "metadata": {},
   "source": [
    "Let's find the two thirds of the average:"
   ]
  },
  {
   "cell_type": "code",
   "execution_count": 4,
   "metadata": {
    "collapsed": false
   },
   "outputs": [
    {
     "data": {
      "text/plain": [
       "32.138666666666666"
      ]
     },
     "execution_count": 4,
     "metadata": {},
     "output_type": "execute_result"
    }
   ],
   "source": [
    "g.two_thirds_of_the_average()"
   ]
  },
  {
   "cell_type": "markdown",
   "metadata": {},
   "source": [
    "We can identify the winning guess:"
   ]
  },
  {
   "cell_type": "code",
   "execution_count": 5,
   "metadata": {
    "collapsed": false
   },
   "outputs": [
    {
     "data": {
      "text/plain": [
       "32"
      ]
     },
     "execution_count": 5,
     "metadata": {},
     "output_type": "execute_result"
    }
   ],
   "source": [
    "g.find_winner()"
   ]
  },
  {
   "cell_type": "markdown",
   "metadata": {},
   "source": [
    "Note that the data could also be in the form of a dictionary that maps names of players to guesses:"
   ]
  },
  {
   "cell_type": "code",
   "execution_count": 6,
   "metadata": {
    "collapsed": true
   },
   "outputs": [],
   "source": [
    "import string\n",
    "\n",
    "def randomword(length):\n",
    "    \"\"\"A function to generate a random name: http://stackoverflow.com/questions/2030053/random-strings-in-python\"\"\"\n",
    "    return ''.join(random.choice(string.lowercase) for i in range(length))\n",
    "\n",
    "guesses = {randomword(8):guess for guess in guesses}"
   ]
  },
  {
   "cell_type": "code",
   "execution_count": 7,
   "metadata": {
    "collapsed": true
   },
   "outputs": [],
   "source": [
    "g = twothirds.TwoThirdsGame(guesses)"
   ]
  },
  {
   "cell_type": "code",
   "execution_count": 8,
   "metadata": {
    "collapsed": false
   },
   "outputs": [
    {
     "data": {
      "text/plain": [
       "32.138666666666666"
      ]
     },
     "execution_count": 8,
     "metadata": {},
     "output_type": "execute_result"
    }
   ],
   "source": [
    "g.two_thirds_of_the_average()"
   ]
  },
  {
   "cell_type": "markdown",
   "metadata": {},
   "source": [
    "We see that quite a few people __won__."
   ]
  },
  {
   "cell_type": "code",
   "execution_count": 9,
   "metadata": {
    "collapsed": false
   },
   "outputs": [
    {
     "data": {
      "text/plain": [
       "('apcocmlu',\n",
       " 'bfgppznj',\n",
       " 'fskeepbj',\n",
       " 'hoyicrdx',\n",
       " 'lfdxotfc',\n",
       " 'nbgjuvxe',\n",
       " 'oblsnael',\n",
       " 'pzbtaiij',\n",
       " 'qbfaiapu',\n",
       " 'qrhjogyk',\n",
       " 'sjdbhwok',\n",
       " 'slhckife',\n",
       " 'speebzxd',\n",
       " 'svtgakna',\n",
       " 'swtsqewb',\n",
       " 'tlspoiml',\n",
       " 'tobhuzcp',\n",
       " 'unzsejfc',\n",
       " 'wtxvyzub',\n",
       " 'wvctyumc',\n",
       " 'xhckzddc',\n",
       " 'ynitorah',\n",
       " 'yokuzwvt',\n",
       " 'zdyludru',\n",
       " 'ziepdmed',\n",
       " 32)"
      ]
     },
     "execution_count": 9,
     "metadata": {},
     "output_type": "execute_result"
    }
   ],
   "source": [
    "g.find_winner()"
   ]
  },
  {
   "cell_type": "markdown",
   "metadata": {},
   "source": [
    "## Handling data"
   ]
  },
  {
   "cell_type": "markdown",
   "metadata": {},
   "source": [
    "Note that it might be much easier to collect the data in a spreadsheet. This library allows for that. Let's first write the data file we will be using (in effect doing things backwords)."
   ]
  },
  {
   "cell_type": "code",
   "execution_count": 10,
   "metadata": {
    "collapsed": false
   },
   "outputs": [],
   "source": [
    "import pandas\n",
    "df = pandas.DataFrame(guesses.items())\n",
    "df.to_csv('demo.csv', index=False)"
   ]
  },
  {
   "cell_type": "markdown",
   "metadata": {},
   "source": [
    "We can now read in this data:"
   ]
  },
  {
   "cell_type": "code",
   "execution_count": 11,
   "metadata": {
    "collapsed": true
   },
   "outputs": [],
   "source": [
    "data = twothirds.Data('demo.csv')\n",
    "data.read()"
   ]
  },
  {
   "cell_type": "markdown",
   "metadata": {},
   "source": [
    "The data file has a dataframe attribute:"
   ]
  },
  {
   "cell_type": "code",
   "execution_count": 12,
   "metadata": {
    "collapsed": false
   },
   "outputs": [
    {
     "data": {
      "text/html": [
       "<div style=\"max-height:1000px;max-width:1500px;overflow:auto;\">\n",
       "<table border=\"1\" class=\"dataframe\">\n",
       "  <thead>\n",
       "    <tr style=\"text-align: right;\">\n",
       "      <th></th>\n",
       "      <th>0</th>\n",
       "      <th>1</th>\n",
       "    </tr>\n",
       "  </thead>\n",
       "  <tbody>\n",
       "    <tr>\n",
       "      <th>0</th>\n",
       "      <td> wnitrdsi</td>\n",
       "      <td> 17</td>\n",
       "    </tr>\n",
       "    <tr>\n",
       "      <th>1</th>\n",
       "      <td> fseluvah</td>\n",
       "      <td> 35</td>\n",
       "    </tr>\n",
       "    <tr>\n",
       "      <th>2</th>\n",
       "      <td> aehvvlcy</td>\n",
       "      <td> 41</td>\n",
       "    </tr>\n",
       "    <tr>\n",
       "      <th>3</th>\n",
       "      <td> emgysqqy</td>\n",
       "      <td> 67</td>\n",
       "    </tr>\n",
       "    <tr>\n",
       "      <th>4</th>\n",
       "      <td> liukbrmv</td>\n",
       "      <td> 47</td>\n",
       "    </tr>\n",
       "  </tbody>\n",
       "</table>\n",
       "</div>"
      ],
      "text/plain": [
       "          0   1\n",
       "0  wnitrdsi  17\n",
       "1  fseluvah  35\n",
       "2  aehvvlcy  41\n",
       "3  emgysqqy  67\n",
       "4  liukbrmv  47"
      ]
     },
     "execution_count": 12,
     "metadata": {},
     "output_type": "execute_result"
    }
   ],
   "source": [
    "data.df.head()"
   ]
  },
  {
   "cell_type": "markdown",
   "metadata": {},
   "source": [
    "We can get the data in a nicer format and ready for use. The format is a list of objects representing every play of the game (so for example we could have a file with muliple columns for each game)."
   ]
  },
  {
   "cell_type": "code",
   "execution_count": 13,
   "metadata": {
    "collapsed": false
   },
   "outputs": [],
   "source": [
    "guesses = data.out()[0]"
   ]
  },
  {
   "cell_type": "markdown",
   "metadata": {},
   "source": [
    "Here we create the game (as above):"
   ]
  },
  {
   "cell_type": "code",
   "execution_count": 14,
   "metadata": {
    "collapsed": true
   },
   "outputs": [],
   "source": [
    "g = twothirds.TwoThirdsGame(guesses)"
   ]
  },
  {
   "cell_type": "code",
   "execution_count": 15,
   "metadata": {
    "collapsed": false
   },
   "outputs": [
    {
     "data": {
      "text/plain": [
       "('apcocmlu',\n",
       " 'bfgppznj',\n",
       " 'fskeepbj',\n",
       " 'hoyicrdx',\n",
       " 'lfdxotfc',\n",
       " 'nbgjuvxe',\n",
       " 'oblsnael',\n",
       " 'pzbtaiij',\n",
       " 'qbfaiapu',\n",
       " 'qrhjogyk',\n",
       " 'sjdbhwok',\n",
       " 'slhckife',\n",
       " 'speebzxd',\n",
       " 'svtgakna',\n",
       " 'swtsqewb',\n",
       " 'tlspoiml',\n",
       " 'tobhuzcp',\n",
       " 'unzsejfc',\n",
       " 'wtxvyzub',\n",
       " 'wvctyumc',\n",
       " 'xhckzddc',\n",
       " 'ynitorah',\n",
       " 'yokuzwvt',\n",
       " 'zdyludru',\n",
       " 'ziepdmed',\n",
       " 32)"
      ]
     },
     "execution_count": 15,
     "metadata": {},
     "output_type": "execute_result"
    }
   ],
   "source": [
    "g.find_winner()"
   ]
  },
  {
   "cell_type": "markdown",
   "metadata": {},
   "source": [
    "## Managing an activity"
   ]
  },
  {
   "cell_type": "markdown",
   "metadata": {},
   "source": [
    "If we have a spreadsheet with multiple columns for guesses we can read it in and create an activity that will contain all the data and analysis we need. Let's tweak our guesses to have a second guess that should be lower than the first."
   ]
  },
  {
   "cell_type": "code",
   "execution_count": 16,
   "metadata": {
    "collapsed": false
   },
   "outputs": [],
   "source": [
    "guesses = [[key, guesses[key], int(random.triangular(0, guesses[key], 1.0 * guesses[key] / 3))] for key in guesses]"
   ]
  },
  {
   "cell_type": "markdown",
   "metadata": {},
   "source": [
    "Here we write the data to file again:"
   ]
  },
  {
   "cell_type": "code",
   "execution_count": 17,
   "metadata": {
    "collapsed": false
   },
   "outputs": [],
   "source": [
    "df = pandas.DataFrame(guesses)\n",
    "df.to_csv('demo.csv', index=False)"
   ]
  },
  {
   "cell_type": "code",
   "execution_count": 18,
   "metadata": {
    "collapsed": true
   },
   "outputs": [],
   "source": [
    "activity = twothirds.Activity('demo.csv')"
   ]
  },
  {
   "cell_type": "markdown",
   "metadata": {},
   "source": [
    "We have still got access to the raw data:"
   ]
  },
  {
   "cell_type": "code",
   "execution_count": 19,
   "metadata": {
    "collapsed": false
   },
   "outputs": [
    {
     "data": {
      "text/html": [
       "<div style=\"max-height:1000px;max-width:1500px;overflow:auto;\">\n",
       "<table border=\"1\" class=\"dataframe\">\n",
       "  <thead>\n",
       "    <tr style=\"text-align: right;\">\n",
       "      <th></th>\n",
       "      <th>0</th>\n",
       "      <th>1</th>\n",
       "      <th>2</th>\n",
       "    </tr>\n",
       "  </thead>\n",
       "  <tbody>\n",
       "    <tr>\n",
       "      <th>0</th>\n",
       "      <td> wnitrdsi</td>\n",
       "      <td> 17</td>\n",
       "      <td>  5</td>\n",
       "    </tr>\n",
       "    <tr>\n",
       "      <th>1</th>\n",
       "      <td> fseluvah</td>\n",
       "      <td> 35</td>\n",
       "      <td>  9</td>\n",
       "    </tr>\n",
       "    <tr>\n",
       "      <th>2</th>\n",
       "      <td> aehvvlcy</td>\n",
       "      <td> 41</td>\n",
       "      <td> 12</td>\n",
       "    </tr>\n",
       "    <tr>\n",
       "      <th>3</th>\n",
       "      <td> emgysqqy</td>\n",
       "      <td> 67</td>\n",
       "      <td> 10</td>\n",
       "    </tr>\n",
       "    <tr>\n",
       "      <th>4</th>\n",
       "      <td> liukbrmv</td>\n",
       "      <td> 47</td>\n",
       "      <td> 25</td>\n",
       "    </tr>\n",
       "  </tbody>\n",
       "</table>\n",
       "</div>"
      ],
      "text/plain": [
       "          0   1   2\n",
       "0  wnitrdsi  17   5\n",
       "1  fseluvah  35   9\n",
       "2  aehvvlcy  41  12\n",
       "3  emgysqqy  67  10\n",
       "4  liukbrmv  47  25"
      ]
     },
     "execution_count": 19,
     "metadata": {},
     "output_type": "execute_result"
    }
   ],
   "source": [
    "activity.raw_data.df.head()"
   ]
  },
  {
   "cell_type": "markdown",
   "metadata": {},
   "source": [
    "We also have an instance for each game:"
   ]
  },
  {
   "cell_type": "code",
   "execution_count": 20,
   "metadata": {
    "collapsed": false
   },
   "outputs": [
    {
     "data": {
      "text/plain": [
       "[<twothirds.single_game.TwoThirdsGame instance at 0x11242c758>,\n",
       " <twothirds.single_game.TwoThirdsGame instance at 0x11242c7a0>]"
      ]
     },
     "execution_count": 20,
     "metadata": {},
     "output_type": "execute_result"
    }
   ],
   "source": [
    "activity.games"
   ]
  },
  {
   "cell_type": "markdown",
   "metadata": {},
   "source": [
    "The winning guess for each game can be found below:"
   ]
  },
  {
   "cell_type": "code",
   "execution_count": 21,
   "metadata": {
    "collapsed": false
   },
   "outputs": [
    {
     "data": {
      "text/plain": [
       "[32, 14]"
      ]
     },
     "execution_count": 21,
     "metadata": {},
     "output_type": "execute_result"
    }
   ],
   "source": [
    "[g.find_winner()[-1] for g in activity.games]"
   ]
  },
  {
   "cell_type": "markdown",
   "metadata": {},
   "source": [
    "The winners of the first game:"
   ]
  },
  {
   "cell_type": "code",
   "execution_count": 22,
   "metadata": {
    "collapsed": false
   },
   "outputs": [
    {
     "data": {
      "text/plain": [
       "('apcocmlu',\n",
       " 'bfgppznj',\n",
       " 'fskeepbj',\n",
       " 'hoyicrdx',\n",
       " 'lfdxotfc',\n",
       " 'nbgjuvxe',\n",
       " 'oblsnael',\n",
       " 'pzbtaiij',\n",
       " 'qbfaiapu',\n",
       " 'qrhjogyk',\n",
       " 'sjdbhwok',\n",
       " 'slhckife',\n",
       " 'speebzxd',\n",
       " 'svtgakna',\n",
       " 'swtsqewb',\n",
       " 'tlspoiml',\n",
       " 'tobhuzcp',\n",
       " 'unzsejfc',\n",
       " 'wtxvyzub',\n",
       " 'wvctyumc',\n",
       " 'xhckzddc',\n",
       " 'ynitorah',\n",
       " 'yokuzwvt',\n",
       " 'zdyludru',\n",
       " 'ziepdmed')"
      ]
     },
     "execution_count": 22,
     "metadata": {},
     "output_type": "execute_result"
    }
   ],
   "source": [
    "activity.games[0].find_winner()[:-1]"
   ]
  },
  {
   "cell_type": "markdown",
   "metadata": {},
   "source": [
    "The winners of the second game (there are more of them):"
   ]
  },
  {
   "cell_type": "code",
   "execution_count": 23,
   "metadata": {
    "collapsed": false
   },
   "outputs": [
    {
     "data": {
      "text/plain": [
       "('anpwrkmg',\n",
       " 'aowzyiaj',\n",
       " 'attypnzu',\n",
       " 'bxfzygmx',\n",
       " 'cfzztpde',\n",
       " 'cgigojsl',\n",
       " 'dhnkgdcy',\n",
       " 'dijgosza',\n",
       " 'djnksuac',\n",
       " 'eaioxbyv',\n",
       " 'elupbqvm',\n",
       " 'estnzwiw',\n",
       " 'ezzqhpyp',\n",
       " 'fpfmikpz',\n",
       " 'gmjmogeu',\n",
       " 'gmpdalqk',\n",
       " 'gotflvbl',\n",
       " 'grtctspc',\n",
       " 'gsmhdffh',\n",
       " 'hmxqvfxe',\n",
       " 'hnrulrjs',\n",
       " 'ierdrwqs',\n",
       " 'iquoeyac',\n",
       " 'ivdtpmfw',\n",
       " 'ixuosudg',\n",
       " 'jeizmotx',\n",
       " 'jojtxypy',\n",
       " 'kdkuislt',\n",
       " 'kjtmkukg',\n",
       " 'ldkrgaje',\n",
       " 'lfdxotfc',\n",
       " 'lhudjnmm',\n",
       " 'lhwzttkj',\n",
       " 'mpqzosoa',\n",
       " 'mrmqvnqi',\n",
       " 'nsmmxemt',\n",
       " 'nvefyfkr',\n",
       " 'nxmiqckz',\n",
       " 'oensxdhw',\n",
       " 'oybhjxjr',\n",
       " 'pvdwsgub',\n",
       " 'qicuitcb',\n",
       " 'qmxqlrik',\n",
       " 'qsbmzhpi',\n",
       " 'qzvpbbre',\n",
       " 'reqpaoub',\n",
       " 'rglbhlxg',\n",
       " 'ricqusyu',\n",
       " 'rrdsanuv',\n",
       " 'rvyktesd',\n",
       " 'rxtpejih',\n",
       " 'vnmnyhwr',\n",
       " 'vomeagrs',\n",
       " 'vqlbbmht',\n",
       " 'whweaawp',\n",
       " 'wvwzyxuu',\n",
       " 'wwqcsbgf',\n",
       " 'xgdjurlk',\n",
       " 'xxejnbfe',\n",
       " 'xzdnrlmh',\n",
       " 'yfrjjnup',\n",
       " 'ymjoakkf',\n",
       " 'ymvvfxox',\n",
       " 'yokuzwvt',\n",
       " 'ytlsdyhd',\n",
       " 'zcscpuhj',\n",
       " 'zjtfzugn')"
      ]
     },
     "execution_count": 23,
     "metadata": {},
     "output_type": "execute_result"
    }
   ],
   "source": [
    "activity.games[1].find_winner()[:-1]"
   ]
  },
  {
   "cell_type": "code",
   "execution_count": 24,
   "metadata": {
    "collapsed": false,
    "scrolled": true
   },
   "outputs": [
    {
     "data": {
      "text/plain": [
       "<matplotlib.figure.Figure at 0x112343f90>"
      ]
     },
     "metadata": {},
     "output_type": "display_data"
    },
    {
     "data": {
      "image/png": "[encoded data removed]",
      "text/plain": [
       "<matplotlib.figure.Figure at 0x1123c7850>"
      ]
     },
     "metadata": {},
     "output_type": "display_data"
    }
   ],
   "source": [
    "%matplotlib inline\n",
    "activity.pairplot();"
   ]
  },
  {
   "cell_type": "code",
   "execution_count": 25,
   "metadata": {
    "collapsed": false
   },
   "outputs": [
    {
     "data": {
      "image/png": "[encoded data removed]",
      "text/plain": [
       "<matplotlib.figure.Figure at 0x1123c7710>"
      ]
     },
     "metadata": {},
     "output_type": "display_data"
    }
   ],
   "source": [
    "activity.analyse()\n",
    "activity.distplot();"
   ]
  },
  {
   "cell_type": "code",
   "execution_count": 27,
   "metadata": {
    "collapsed": false
   },
   "outputs": [
    {
     "data": {
      "text/plain": [
       "=====================\n",
       "Game 0\n",
       "---------------------\n",
       "2/3rds of the average: 32.14\n",
       "Winning guess: 32\n",
       "Winner(s): ('apcocmlu', 'bfgppznj', 'fskeepbj', 'hoyicrdx', 'lfdxotfc', 'nbgjuvxe', 'oblsnael', 'pzbtaiij', 'qbfaiapu', 'qrhjogyk', 'sjdbhwok', 'slhckife', 'speebzxd', 'svtgakna', 'swtsqewb', 'tlspoiml', 'tobhuzcp', 'unzsejfc', 'wtxvyzub', 'wvctyumc', 'xhckzddc', 'ynitorah', 'yokuzwvt', 'zdyludru', 'ziepdmed')\n",
       "=====================\n",
       "Game 1\n",
       "---------------------\n",
       "2/3rds of the average: 14.14\n",
       "Winning guess: 14\n",
       "Winner(s): ('anpwrkmg', 'aowzyiaj', 'attypnzu', 'bxfzygmx', 'cfzztpde', 'cgigojsl', 'dhnkgdcy', 'dijgosza', 'djnksuac', 'eaioxbyv', 'elupbqvm', 'estnzwiw', 'ezzqhpyp', 'fpfmikpz', 'gmjmogeu', 'gmpdalqk', 'gotflvbl', 'grtctspc', 'gsmhdffh', 'hmxqvfxe', 'hnrulrjs', 'ierdrwqs', 'iquoeyac', 'ivdtpmfw', 'ixuosudg', 'jeizmotx', 'jojtxypy', 'kdkuislt', 'kjtmkukg', 'ldkrgaje', 'lfdxotfc', 'lhudjnmm', 'lhwzttkj', 'mpqzosoa', 'mrmqvnqi', 'nsmmxemt', 'nvefyfkr', 'nxmiqckz', 'oensxdhw', 'oybhjxjr', 'pvdwsgub', 'qicuitcb', 'qmxqlrik', 'qsbmzhpi', 'qzvpbbre', 'reqpaoub', 'rglbhlxg', 'ricqusyu', 'rrdsanuv', 'rvyktesd', 'rxtpejih', 'vnmnyhwr', 'vomeagrs', 'vqlbbmht', 'whweaawp', 'wvwzyxuu', 'wwqcsbgf', 'xgdjurlk', 'xxejnbfe', 'xzdnrlmh', 'yfrjjnup', 'ymjoakkf', 'ymvvfxox', 'yokuzwvt', 'ytlsdyhd', 'zcscpuhj', 'zjtfzugn')"
      ]
     },
     "execution_count": 27,
     "metadata": {},
     "output_type": "execute_result"
    }
   ],
   "source": [
    "activity"
   ]
  },
  {
   "cell_type": "code",
   "execution_count": null,
   "metadata": {
    "collapsed": true
   },
   "outputs": [],
   "source": []
  }
 ],
 "metadata": {
  "kernelspec": {
   "display_name": "Python 2",
   "language": "python",
   "name": "python2"
  },
  "language_info": {
   "codemirror_mode": {
    "name": "ipython",
    "version": 2
   },
   "file_extension": ".py",
   "mimetype": "text/x-python",
   "name": "python",
   "nbconvert_exporter": "python",
   "pygments_lexer": "ipython2",
   "version": "2.7.8"
  }
 },
 "nbformat": 4,
 "nbformat_minor": 0
}
